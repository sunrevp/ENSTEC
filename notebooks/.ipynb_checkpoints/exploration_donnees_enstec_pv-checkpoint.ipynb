{
 "cells": [
  {
   "cell_type": "markdown",
   "metadata": {
    "toc": true
   },
   "source": [
    "<h1>Table of Contents<span class=\"tocSkip\"></span></h1>\n",
    "<div class=\"toc\"><ul class=\"toc-item\"><li><span><a href=\"#Connection-à-la-bhp\" data-toc-modified-id=\"Connection-à-la-bhp-1\"><span class=\"toc-item-num\">1&nbsp;&nbsp;</span>Connection à la bhp</a></span></li><li><span><a href=\"#Exploration\" data-toc-modified-id=\"Exploration-2\"><span class=\"toc-item-num\">2&nbsp;&nbsp;</span>Exploration</a></span><ul class=\"toc-item\"><li><span><a href=\"#Types-d'objets-rattachés-au-projet\" data-toc-modified-id=\"Types-d'objets-rattachés-au-projet-2.1\"><span class=\"toc-item-num\">2.1&nbsp;&nbsp;</span>Types d'objets rattachés au projet</a></span></li><li><span><a href=\"#CoAc-:-nombre-créés-par-G.-Bodé\" data-toc-modified-id=\"CoAc-:-nombre-créés-par-G.-Bodé-2.2\"><span class=\"toc-item-num\">2.2&nbsp;&nbsp;</span>CoAc : nombre créés par G. Bodé</a></span></li><li><span><a href=\"#Liste-des-CoAc-attachés-au-projet-avec-création-d'un-fichier\" data-toc-modified-id=\"Liste-des-CoAc-attachés-au-projet-avec-création-d'un-fichier-2.3\"><span class=\"toc-item-num\">2.3&nbsp;&nbsp;</span>Liste des CoAc attachés au projet avec création d'un fichier</a></span></li><li><span><a href=\"#CoAc-:-distribution-des-types-de-CoAc-associés-au-projet\" data-toc-modified-id=\"CoAc-:-distribution-des-types-de-CoAc-associés-au-projet-2.4\"><span class=\"toc-item-num\">2.4&nbsp;&nbsp;</span>CoAc : distribution des types de CoAc associés au projet</a></span></li><li><span><a href=\"#CoAc-:-liste-des-informations-associées-aux-CoAc-du-projet\" data-toc-modified-id=\"CoAc-:-liste-des-informations-associées-aux-CoAc-du-projet-2.5\"><span class=\"toc-item-num\">2.5&nbsp;&nbsp;</span>CoAc : liste des informations associées aux CoAc du projet</a></span><ul class=\"toc-item\"><li><span><a href=\"#Types-de-rôles-joués-par-les-CoAc\" data-toc-modified-id=\"Types-de-rôles-joués-par-les-CoAc-2.5.1\"><span class=\"toc-item-num\">2.5.1&nbsp;&nbsp;</span>Types de rôles joués par les CoAc</a></span></li><li><span><a href=\"#Liste-des-informations-liées-aux-CoAc-associés-au-projet.\" data-toc-modified-id=\"Liste-des-informations-liées-aux-CoAc-associés-au-projet.-2.5.2\"><span class=\"toc-item-num\">2.5.2&nbsp;&nbsp;</span>Liste des informations liées aux CoAc associés au projet.</a></span></li><li><span><a href=\"#Liste-des-créateurs-des-informations\" data-toc-modified-id=\"Liste-des-créateurs-des-informations-2.5.3\"><span class=\"toc-item-num\">2.5.3&nbsp;&nbsp;</span>Liste des créateurs des informations</a></span></li></ul></li><li><span><a href=\"#Informations-création\" data-toc-modified-id=\"Informations-création-2.6\"><span class=\"toc-item-num\">2.6&nbsp;&nbsp;</span>Informations création</a></span><ul class=\"toc-item\"><li><span><a href=\"#Liste-des-TyIn30,-création-d'un-acteur-collectif.\" data-toc-modified-id=\"Liste-des-TyIn30,-création-d'un-acteur-collectif.-2.6.1\"><span class=\"toc-item-num\">2.6.1&nbsp;&nbsp;</span>Liste des TyIn30, création d'un acteur collectif.</a></span></li><li><span><a href=\"#Distribution-des-dates\" data-toc-modified-id=\"Distribution-des-dates-2.6.2\"><span class=\"toc-item-num\">2.6.2&nbsp;&nbsp;</span>Distribution des dates</a></span></li></ul></li></ul></li></ul></div>"
   ]
  },
  {
   "cell_type": "markdown",
   "metadata": {},
   "source": [
    "# Premières explorations du corpus du projet Etablissements d'enseignement technique"
   ]
  },
  {
   "cell_type": "markdown",
   "metadata": {},
   "source": [
    "Importation des bibliothèques et modules nécessaires\n"
   ]
  },
  {
   "cell_type": "code",
   "execution_count": 1,
   "metadata": {},
   "outputs": [],
   "source": [
    "import os\n",
    "import pathlib\n",
    "from pathlib import Path\n",
    "import matplotlib\n",
    "from matplotlib import pyplot as plt\n",
    "import psycopg2\n",
    "import getpass\n",
    "import pandas as pd\n",
    "import seaborn as sns"
   ]
  },
  {
   "cell_type": "markdown",
   "metadata": {},
   "source": [
    "## Connection à la bhp"
   ]
  },
  {
   "cell_type": "markdown",
   "metadata": {},
   "source": [
    "Saisie du mot de passe, le même que celui utilisé pour son compte utilisateur de la BHP."
   ]
  },
  {
   "cell_type": "code",
   "execution_count": 2,
   "metadata": {},
   "outputs": [
    {
     "name": "stdout",
     "output_type": "stream",
     "text": [
      "········\n"
     ]
    }
   ],
   "source": [
    "password = getpass.getpass()"
   ]
  },
  {
   "cell_type": "markdown",
   "metadata": {},
   "source": [
    "Après enregistrement du notebook sur sa machine compléter sur la version récupérée sur sa machine l'hôte, le port, votre login tels qu'ils vous ont été fournis."
   ]
  },
  {
   "cell_type": "code",
   "execution_count": 3,
   "metadata": {},
   "outputs": [],
   "source": [
    "conn = psycopg2.connect(host = \"hôte\",\n",
    "port = \"port\",\n",
    "user = \"login\",\n",
    "password = password,\n",
    "database = \"symogih\") "
   ]
  },
  {
   "cell_type": "code",
   "execution_count": 4,
   "metadata": {},
   "outputs": [
    {
     "name": "stdout",
     "output_type": "stream",
     "text": [
      "PostgreSQL server information\n",
      "{'user': 'pvernus', 'channel_binding': 'prefer', 'dbname': 'symogih', 'host': 'bhp-publi.ish-lyon.cnrs.fr', 'port': '9375', 'tty': '', 'options': '', 'sslmode': 'prefer', 'sslcompression': '0', 'ssl_min_protocol_version': 'TLSv1.2', 'gssencmode': 'prefer', 'krbsrvname': 'postgres', 'target_session_attrs': 'any'} \n",
      "\n"
     ]
    }
   ],
   "source": [
    "cursor = conn.cursor()\n",
    "print(\"PostgreSQL server information\")\n",
    "print(conn.get_dsn_parameters(), \"\\n\")"
   ]
  },
  {
   "cell_type": "code",
   "execution_count": 5,
   "metadata": {},
   "outputs": [
    {
     "name": "stdout",
     "output_type": "stream",
     "text": [
      "you are connected to -  ('PostgreSQL 9.4.18 on x86_64-unknown-linux-gnu (Debian 9.4.18-2.pgdg70+1), compiled by gcc (Debian 4.7.2-5) 4.7.2, 64-bit',) \n",
      "\n"
     ]
    }
   ],
   "source": [
    "cursor.execute(\"SELECT version();\")\n",
    "record = cursor.fetchone()\n",
    "print(\"you are connected to - \", record, \"\\n\")"
   ]
  },
  {
   "cell_type": "markdown",
   "metadata": {},
   "source": [
    "## Exploration"
   ]
  },
  {
   "cell_type": "markdown",
   "metadata": {},
   "source": [
    "### Types d'objets rattachés au projet"
   ]
  },
  {
   "cell_type": "code",
   "execution_count": 6,
   "metadata": {
    "scrolled": true
   },
   "outputs": [
    {
     "name": "stdout",
     "output_type": "stream",
     "text": [
      "  type_objet  freq\n",
      "0       CoAc  5388\n",
      "1       MaOb  1358\n",
      "2       AbOb   632\n",
      "3       Actr   141\n",
      "4       SoCh    35\n",
      "5       Info    12\n",
      "6       Bibl     9\n",
      "7       TyIn     6\n",
      "8       DiOb     3\n",
      "9       NaPl     1\n"
     ]
    }
   ],
   "source": [
    "sql = \"\"\"\n",
    "SELECT substring(fk_object from 1 for 4), count(*) nombre\n",
    "  FROM bhp.v_associate_project\n",
    "  WHERE fk_collective_actor = 15789\n",
    "  GROUP BY substring(fk_object from 1 for 4)\n",
    "  ORDER BY nombre desc\n",
    "\"\"\"\n",
    "cursor.execute(sql)\n",
    "query = cursor.fetchall()\n",
    "df = pd.DataFrame(query, columns=[\"type_objet\", \"freq\"])\n",
    "print(df)"
   ]
  },
  {
   "cell_type": "markdown",
   "metadata": {},
   "source": [
    "### CoAc : nombre créés par G. Bodé"
   ]
  },
  {
   "cell_type": "code",
   "execution_count": 7,
   "metadata": {},
   "outputs": [
    {
     "name": "stdout",
     "output_type": "stream",
     "text": [
      "[(5436,)]\n"
     ]
    }
   ],
   "source": [
    "sql = \"\"\"\n",
    "SELECT count(*)\n",
    "  FROM bhp.v_collective_actor\n",
    "  WHERE creator = 74\n",
    "\"\"\"\n",
    "cursor.execute(sql)\n",
    "query = cursor.fetchall()\n",
    "print(query)\n"
   ]
  },
  {
   "cell_type": "markdown",
   "metadata": {},
   "source": [
    "### Liste des CoAc attachés au projet avec création d'un fichier"
   ]
  },
  {
   "cell_type": "code",
   "execution_count": 8,
   "metadata": {},
   "outputs": [
    {
     "data": {
      "text/html": [
       "<div>\n",
       "<style scoped>\n",
       "    .dataframe tbody tr th:only-of-type {\n",
       "        vertical-align: middle;\n",
       "    }\n",
       "\n",
       "    .dataframe tbody tr th {\n",
       "        vertical-align: top;\n",
       "    }\n",
       "\n",
       "    .dataframe thead th {\n",
       "        text-align: right;\n",
       "    }\n",
       "</style>\n",
       "<table border=\"1\" class=\"dataframe\">\n",
       "  <thead>\n",
       "    <tr style=\"text-align: right;\">\n",
       "      <th></th>\n",
       "      <th>pk</th>\n",
       "      <th>standard_name</th>\n",
       "      <th>annee_deb_qualif</th>\n",
       "      <th>annee_deb_certitude</th>\n",
       "      <th>annee_deb</th>\n",
       "    </tr>\n",
       "  </thead>\n",
       "  <tbody>\n",
       "    <tr>\n",
       "      <th>0</th>\n",
       "      <td>CoAc22392</td>\n",
       "      <td>Diocèse de Tarbes</td>\n",
       "      <td>2</td>\n",
       "      <td>1</td>\n",
       "      <td>506</td>\n",
       "    </tr>\n",
       "    <tr>\n",
       "      <th>1</th>\n",
       "      <td>CoAc16176</td>\n",
       "      <td>École d’art du pont (Toulon)</td>\n",
       "      <td>2</td>\n",
       "      <td>1</td>\n",
       "      <td>1640</td>\n",
       "    </tr>\n",
       "    <tr>\n",
       "      <th>2</th>\n",
       "      <td>CoAc18859</td>\n",
       "      <td>Ecole d'hydrographie (Dieppe)</td>\n",
       "      <td>2</td>\n",
       "      <td>1</td>\n",
       "      <td>1665</td>\n",
       "    </tr>\n",
       "    <tr>\n",
       "      <th>3</th>\n",
       "      <td>CoAc18858</td>\n",
       "      <td>Ecole d'hydrographie (Le Havre)</td>\n",
       "      <td>2</td>\n",
       "      <td>1</td>\n",
       "      <td>1665</td>\n",
       "    </tr>\n",
       "    <tr>\n",
       "      <th>4</th>\n",
       "      <td>CoAc18863</td>\n",
       "      <td>Ecole d'hydrographie (Saint-Malo)</td>\n",
       "      <td>2</td>\n",
       "      <td>1</td>\n",
       "      <td>1669</td>\n",
       "    </tr>\n",
       "  </tbody>\n",
       "</table>\n",
       "</div>"
      ],
      "text/plain": [
       "          pk                      standard_name annee_deb_qualif  \\\n",
       "0  CoAc22392                  Diocèse de Tarbes                2   \n",
       "1  CoAc16176       École d’art du pont (Toulon)                2   \n",
       "2  CoAc18859      Ecole d'hydrographie (Dieppe)                2   \n",
       "3  CoAc18858    Ecole d'hydrographie (Le Havre)                2   \n",
       "4  CoAc18863  Ecole d'hydrographie (Saint-Malo)                2   \n",
       "\n",
       "  annee_deb_certitude  annee_deb  \n",
       "0                   1        506  \n",
       "1                   1       1640  \n",
       "2                   1       1665  \n",
       "3                   1       1665  \n",
       "4                   1       1669  "
      ]
     },
     "execution_count": 8,
     "metadata": {},
     "output_type": "execute_result"
    }
   ],
   "source": [
    "sql = \"\"\"\n",
    "SELECT concat_coac, concat_standard_name, notes_begin, certainty_begin, begin_year\n",
    "FROM bhp.v_collective_actor\n",
    "WHERE trim(concat_coac)\n",
    "IN (\n",
    "SELECT trim(fk_object)\n",
    "FROM bhp.v_associate_project\n",
    "WHERE fk_collective_actor = 15789\n",
    "AND fk_object LIKE 'CoAc%'\n",
    ")\n",
    "ORDER BY begin_year\n",
    "\"\"\"\n",
    "cursor.execute(sql)\n",
    "query = cursor.fetchall()\n",
    "df = pd.DataFrame(query, columns=[\"pk\", \"standard_name\", \"annee_deb_qualif\", \"annee_deb_certitude\", \"annee_deb\"])\n",
    "df.to_excel(\"liste_coac.xlsx\")\n",
    "df.head()"
   ]
  },
  {
   "cell_type": "markdown",
   "metadata": {},
   "source": [
    "Problème il n'y a que 5387 résultats au lieu de 5388 comme dans le résultat de la requête précédente. Pourquoi ?\n",
    "En fait le CoAc18825 a été associé deux fois au projet comme le montre la requête suivante.\n",
    "\n",
    "**Il n'y a donc que 5387 CoAc associés**."
   ]
  },
  {
   "cell_type": "code",
   "execution_count": 9,
   "metadata": {
    "scrolled": true
   },
   "outputs": [
    {
     "data": {
      "text/html": [
       "<div>\n",
       "<style scoped>\n",
       "    .dataframe tbody tr th:only-of-type {\n",
       "        vertical-align: middle;\n",
       "    }\n",
       "\n",
       "    .dataframe tbody tr th {\n",
       "        vertical-align: top;\n",
       "    }\n",
       "\n",
       "    .dataframe thead th {\n",
       "        text-align: right;\n",
       "    }\n",
       "</style>\n",
       "<table border=\"1\" class=\"dataframe\">\n",
       "  <thead>\n",
       "    <tr style=\"text-align: right;\">\n",
       "      <th></th>\n",
       "      <th>coac</th>\n",
       "      <th>freq</th>\n",
       "    </tr>\n",
       "  </thead>\n",
       "  <tbody>\n",
       "    <tr>\n",
       "      <th>0</th>\n",
       "      <td>CoAc18825</td>\n",
       "      <td>2</td>\n",
       "    </tr>\n",
       "    <tr>\n",
       "      <th>1</th>\n",
       "      <td>CoAc17775</td>\n",
       "      <td>1</td>\n",
       "    </tr>\n",
       "    <tr>\n",
       "      <th>2</th>\n",
       "      <td>CoAc16810</td>\n",
       "      <td>1</td>\n",
       "    </tr>\n",
       "    <tr>\n",
       "      <th>3</th>\n",
       "      <td>CoAc17802</td>\n",
       "      <td>1</td>\n",
       "    </tr>\n",
       "    <tr>\n",
       "      <th>4</th>\n",
       "      <td>CoAc19067</td>\n",
       "      <td>1</td>\n",
       "    </tr>\n",
       "  </tbody>\n",
       "</table>\n",
       "</div>"
      ],
      "text/plain": [
       "        coac  freq\n",
       "0  CoAc18825     2\n",
       "1  CoAc17775     1\n",
       "2  CoAc16810     1\n",
       "3  CoAc17802     1\n",
       "4  CoAc19067     1"
      ]
     },
     "execution_count": 9,
     "metadata": {},
     "output_type": "execute_result"
    }
   ],
   "source": [
    "sql = \"\"\"\n",
    "SELECT fk_object, count(*) freq\n",
    "FROM bhp.v_associate_project\n",
    "WHERE fk_collective_actor = 15789\n",
    "AND fk_object LIKE 'CoAc%'\n",
    "GROUP BY fk_object\n",
    "ORDER BY freq desc\n",
    "\"\"\"\n",
    "cursor.execute(sql)\n",
    "query = cursor.fetchall()\n",
    "df = pd.DataFrame(query, columns=[\"coac\", \"freq\"])\n",
    "df.head()"
   ]
  },
  {
   "cell_type": "markdown",
   "metadata": {},
   "source": [
    "On aura donc la liste des CoAc associés au projet avec la requête suivante : \n",
    "\n",
    "`SELECT DISTINCT fk_object\n",
    "FROM bhp.v_associate_project\n",
    "WHERE fk_collective_actor = 15789\n",
    "AND fk_object LIKE 'CoAc%'`"
   ]
  },
  {
   "cell_type": "markdown",
   "metadata": {},
   "source": [
    "### CoAc : distribution des types de CoAc associés au projet"
   ]
  },
  {
   "cell_type": "code",
   "execution_count": 10,
   "metadata": {},
   "outputs": [
    {
     "name": "stdout",
     "output_type": "stream",
     "text": [
      "[(1051, 5387)]\n"
     ]
    }
   ],
   "source": [
    "sql = \"\"\"\n",
    "SELECT fk_abob_type_collective_actor, count(*) freq\n",
    "  FROM bhp.v_collective_actor\n",
    "  WHERE concat_coac IN \n",
    "  (SELECT DISTINCT fk_object\n",
    "FROM bhp.v_associate_project\n",
    "WHERE fk_collective_actor = 15789\n",
    "AND fk_object LIKE 'CoAc%'\n",
    ")\n",
    "GROUP BY fk_abob_type_collective_actor\n",
    "ORDER BY freq desc\n",
    "\"\"\"\n",
    "cursor.execute(sql)\n",
    "query = cursor.fetchall()\n",
    "print(query)"
   ]
  },
  {
   "cell_type": "markdown",
   "metadata": {},
   "source": [
    "Tous les acteurs collectis sont du même type : 1051, collectivité structurée"
   ]
  },
  {
   "cell_type": "markdown",
   "metadata": {},
   "source": [
    "### CoAc : liste des informations associées aux CoAc du projet"
   ]
  },
  {
   "cell_type": "markdown",
   "metadata": {},
   "source": [
    "D'abord, quelles sont les informations qui sont associées aux CoAc du projet ?"
   ]
  },
  {
   "cell_type": "code",
   "execution_count": 11,
   "metadata": {},
   "outputs": [
    {
     "data": {
      "text/html": [
       "<div>\n",
       "<style scoped>\n",
       "    .dataframe tbody tr th:only-of-type {\n",
       "        vertical-align: middle;\n",
       "    }\n",
       "\n",
       "    .dataframe tbody tr th {\n",
       "        vertical-align: top;\n",
       "    }\n",
       "\n",
       "    .dataframe thead th {\n",
       "        text-align: right;\n",
       "    }\n",
       "</style>\n",
       "<table border=\"1\" class=\"dataframe\">\n",
       "  <thead>\n",
       "    <tr style=\"text-align: right;\">\n",
       "      <th></th>\n",
       "      <th>fk_info</th>\n",
       "      <th>freq</th>\n",
       "    </tr>\n",
       "  </thead>\n",
       "  <tbody>\n",
       "    <tr>\n",
       "      <th>0</th>\n",
       "      <td>158501</td>\n",
       "      <td>2</td>\n",
       "    </tr>\n",
       "    <tr>\n",
       "      <th>1</th>\n",
       "      <td>151977</td>\n",
       "      <td>2</td>\n",
       "    </tr>\n",
       "    <tr>\n",
       "      <th>2</th>\n",
       "      <td>134127</td>\n",
       "      <td>2</td>\n",
       "    </tr>\n",
       "    <tr>\n",
       "      <th>3</th>\n",
       "      <td>147061</td>\n",
       "      <td>2</td>\n",
       "    </tr>\n",
       "    <tr>\n",
       "      <th>4</th>\n",
       "      <td>157189</td>\n",
       "      <td>2</td>\n",
       "    </tr>\n",
       "  </tbody>\n",
       "</table>\n",
       "</div>"
      ],
      "text/plain": [
       "   fk_info  freq\n",
       "0   158501     2\n",
       "1   151977     2\n",
       "2   134127     2\n",
       "3   147061     2\n",
       "4   157189     2"
      ]
     },
     "execution_count": 11,
     "metadata": {},
     "output_type": "execute_result"
    }
   ],
   "source": [
    "sql = \"\"\"\n",
    "SELECT fk_information, count(*) freq\n",
    "  FROM bhp.v_information_role\n",
    "  WHERE fk_associated_object IN (\n",
    "  SELECT DISTINCT fk_object\n",
    "FROM bhp.v_associate_project\n",
    "WHERE fk_collective_actor = 15789\n",
    "AND fk_object LIKE 'CoAc%'\n",
    ")\n",
    "GROUP BY fk_information\n",
    "ORDER BY freq desc;\n",
    "\"\"\"\n",
    "cursor.execute(sql)\n",
    "query = cursor.fetchall()\n",
    "df = pd.DataFrame(query, columns=[\"fk_info\", \"freq\"])\n",
    "df[df[\"freq\"] > 1]"
   ]
  },
  {
   "cell_type": "markdown",
   "metadata": {},
   "source": [
    "Il y a donc 5 informations auxquels le CoAc a été associé deux fois => à corriger.\n",
    "Combien y a-t-il d'informations ?"
   ]
  },
  {
   "cell_type": "code",
   "execution_count": 12,
   "metadata": {},
   "outputs": [
    {
     "data": {
      "text/plain": [
       "20985"
      ]
     },
     "execution_count": 12,
     "metadata": {},
     "output_type": "execute_result"
    }
   ],
   "source": [
    "len(df)"
   ]
  },
  {
   "cell_type": "markdown",
   "metadata": {},
   "source": [
    "#### Types de rôles joués par les CoAc"
   ]
  },
  {
   "cell_type": "code",
   "execution_count": 13,
   "metadata": {},
   "outputs": [
    {
     "data": {
      "text/html": [
       "<div>\n",
       "<style scoped>\n",
       "    .dataframe tbody tr th:only-of-type {\n",
       "        vertical-align: middle;\n",
       "    }\n",
       "\n",
       "    .dataframe tbody tr th {\n",
       "        vertical-align: top;\n",
       "    }\n",
       "\n",
       "    .dataframe thead th {\n",
       "        text-align: right;\n",
       "    }\n",
       "</style>\n",
       "<table border=\"1\" class=\"dataframe\">\n",
       "  <thead>\n",
       "    <tr style=\"text-align: right;\">\n",
       "      <th></th>\n",
       "      <th>type_role</th>\n",
       "      <th>freq</th>\n",
       "    </tr>\n",
       "  </thead>\n",
       "  <tbody>\n",
       "    <tr>\n",
       "      <th>0</th>\n",
       "      <td>21.0</td>\n",
       "      <td>9126</td>\n",
       "    </tr>\n",
       "    <tr>\n",
       "      <th>1</th>\n",
       "      <td>49.0</td>\n",
       "      <td>5368</td>\n",
       "    </tr>\n",
       "    <tr>\n",
       "      <th>2</th>\n",
       "      <td>12.0</td>\n",
       "      <td>4579</td>\n",
       "    </tr>\n",
       "    <tr>\n",
       "      <th>3</th>\n",
       "      <td>41.0</td>\n",
       "      <td>1822</td>\n",
       "    </tr>\n",
       "    <tr>\n",
       "      <th>4</th>\n",
       "      <td>133.0</td>\n",
       "      <td>36</td>\n",
       "    </tr>\n",
       "    <tr>\n",
       "      <th>5</th>\n",
       "      <td>98.0</td>\n",
       "      <td>18</td>\n",
       "    </tr>\n",
       "    <tr>\n",
       "      <th>6</th>\n",
       "      <td>54.0</td>\n",
       "      <td>16</td>\n",
       "    </tr>\n",
       "    <tr>\n",
       "      <th>7</th>\n",
       "      <td>NaN</td>\n",
       "      <td>14</td>\n",
       "    </tr>\n",
       "    <tr>\n",
       "      <th>8</th>\n",
       "      <td>174.0</td>\n",
       "      <td>3</td>\n",
       "    </tr>\n",
       "    <tr>\n",
       "      <th>9</th>\n",
       "      <td>131.0</td>\n",
       "      <td>2</td>\n",
       "    </tr>\n",
       "    <tr>\n",
       "      <th>10</th>\n",
       "      <td>8.0</td>\n",
       "      <td>2</td>\n",
       "    </tr>\n",
       "    <tr>\n",
       "      <th>11</th>\n",
       "      <td>58.0</td>\n",
       "      <td>1</td>\n",
       "    </tr>\n",
       "    <tr>\n",
       "      <th>12</th>\n",
       "      <td>50.0</td>\n",
       "      <td>1</td>\n",
       "    </tr>\n",
       "    <tr>\n",
       "      <th>13</th>\n",
       "      <td>37.0</td>\n",
       "      <td>1</td>\n",
       "    </tr>\n",
       "    <tr>\n",
       "      <th>14</th>\n",
       "      <td>195.0</td>\n",
       "      <td>1</td>\n",
       "    </tr>\n",
       "  </tbody>\n",
       "</table>\n",
       "</div>"
      ],
      "text/plain": [
       "    type_role  freq\n",
       "0        21.0  9126\n",
       "1        49.0  5368\n",
       "2        12.0  4579\n",
       "3        41.0  1822\n",
       "4       133.0    36\n",
       "5        98.0    18\n",
       "6        54.0    16\n",
       "7         NaN    14\n",
       "8       174.0     3\n",
       "9       131.0     2\n",
       "10        8.0     2\n",
       "11       58.0     1\n",
       "12       50.0     1\n",
       "13       37.0     1\n",
       "14      195.0     1"
      ]
     },
     "execution_count": 13,
     "metadata": {},
     "output_type": "execute_result"
    }
   ],
   "source": [
    "sql = \"\"\"\n",
    "SELECT fk_type_role, count(*) freq\n",
    "  FROM bhp.v_information_role\n",
    "  WHERE fk_associated_object IN (\n",
    "  SELECT DISTINCT fk_object\n",
    "FROM bhp.v_associate_project\n",
    "WHERE fk_collective_actor = 15789\n",
    "AND fk_object LIKE 'CoAc%'\n",
    ")\n",
    "GROUP BY fk_type_role\n",
    "ORDER BY freq desc;\n",
    "\"\"\"\n",
    "cursor.execute(sql)\n",
    "query = cursor.fetchall()\n",
    "df = pd.DataFrame(query, columns=[\"type_role\", \"freq\"])\n",
    "df"
   ]
  },
  {
   "cell_type": "markdown",
   "metadata": {},
   "source": [
    "14 roles ne sont pas typés. Voici la liste des informations concernées "
   ]
  },
  {
   "cell_type": "code",
   "execution_count": 14,
   "metadata": {},
   "outputs": [
    {
     "name": "stdout",
     "output_type": "stream",
     "text": [
      "[(88702,), (88749,), (73640,), (78636,), (87932,), (88344,), (78362,), (75023,), (49841,), (73655,), (78193,), (52165,), (52238,), (53896,)]\n"
     ]
    }
   ],
   "source": [
    "sql = \"\"\"\n",
    "SELECT fk_information\n",
    "  FROM bhp.v_information_role\n",
    "  WHERE fk_associated_object IN (\n",
    "  SELECT DISTINCT fk_object\n",
    "FROM bhp.v_associate_project\n",
    "WHERE fk_collective_actor = 15789\n",
    "AND fk_object LIKE 'CoAc%'\n",
    ")\n",
    "AND fk_type_role is null\n",
    "\"\"\"\n",
    "cursor.execute(sql)\n",
    "query = cursor.fetchall()\n",
    "print(query)"
   ]
  },
  {
   "cell_type": "markdown",
   "metadata": {},
   "source": [
    "#### Liste des informations liées aux CoAc associés au projet."
   ]
  },
  {
   "cell_type": "code",
   "execution_count": 18,
   "metadata": {},
   "outputs": [
    {
     "data": {
      "text/html": [
       "<div>\n",
       "<style scoped>\n",
       "    .dataframe tbody tr th:only-of-type {\n",
       "        vertical-align: middle;\n",
       "    }\n",
       "\n",
       "    .dataframe tbody tr th {\n",
       "        vertical-align: top;\n",
       "    }\n",
       "\n",
       "    .dataframe thead th {\n",
       "        text-align: right;\n",
       "    }\n",
       "</style>\n",
       "<table border=\"1\" class=\"dataframe\">\n",
       "  <thead>\n",
       "    <tr style=\"text-align: right;\">\n",
       "      <th></th>\n",
       "      <th>pk_information</th>\n",
       "      <th>concat_info</th>\n",
       "      <th>notes</th>\n",
       "      <th>fk_type_information</th>\n",
       "      <th>fk_inherit_info_sourcing</th>\n",
       "      <th>creator</th>\n",
       "      <th>info_label</th>\n",
       "      <th>standard_date</th>\n",
       "      <th>standard_date_type</th>\n",
       "      <th>info_subject</th>\n",
       "    </tr>\n",
       "  </thead>\n",
       "  <tbody>\n",
       "    <tr>\n",
       "      <th>0</th>\n",
       "      <td>153566</td>\n",
       "      <td>Info153566</td>\n",
       "      <td>None</td>\n",
       "      <td>Activité d'enseignement d'un acteur collectif</td>\n",
       "      <td>None</td>\n",
       "      <td>74.0</td>\n",
       "      <td>Ecole pratique d'agriculture (Plouguernével); ...</td>\n",
       "      <td>1909-04-16</td>\n",
       "      <td>Date de début</td>\n",
       "      <td>None</td>\n",
       "    </tr>\n",
       "    <tr>\n",
       "      <th>1</th>\n",
       "      <td>155132</td>\n",
       "      <td>Info155132</td>\n",
       "      <td>None</td>\n",
       "      <td>Caractéristiques d'un objet</td>\n",
       "      <td>None</td>\n",
       "      <td>74.0</td>\n",
       "      <td>Ferme-école de Varincourt (Laneuvelotte); Inte...</td>\n",
       "      <td>1849-04-03</td>\n",
       "      <td>Date de début</td>\n",
       "      <td>None</td>\n",
       "    </tr>\n",
       "    <tr>\n",
       "      <th>2</th>\n",
       "      <td>155028</td>\n",
       "      <td>Info155028</td>\n",
       "      <td>None</td>\n",
       "      <td>Caractéristiques d'un objet</td>\n",
       "      <td>None</td>\n",
       "      <td>74.0</td>\n",
       "      <td>Ferme-école d'Ollwiller (Wuenheim); Internat -...</td>\n",
       "      <td>1849-05-14</td>\n",
       "      <td>Date de début</td>\n",
       "      <td>None</td>\n",
       "    </tr>\n",
       "    <tr>\n",
       "      <th>3</th>\n",
       "      <td>141498</td>\n",
       "      <td>Info141498</td>\n",
       "      <td>None</td>\n",
       "      <td>Création d'un acteur collectif</td>\n",
       "      <td>None</td>\n",
       "      <td>74.0</td>\n",
       "      <td>Section commerciale de l'école primaire supéri...</td>\n",
       "      <td>1931</td>\n",
       "      <td>Date unique</td>\n",
       "      <td>None</td>\n",
       "    </tr>\n",
       "    <tr>\n",
       "      <th>4</th>\n",
       "      <td>87832</td>\n",
       "      <td>Info87832</td>\n",
       "      <td></td>\n",
       "      <td>Qualité (obtenir une)</td>\n",
       "      <td>None</td>\n",
       "      <td>11.0</td>\n",
       "      <td>Marrel, Jean - Diplômé des Arts et Métiers (Cl...</td>\n",
       "      <td>1906</td>\n",
       "      <td>Date début</td>\n",
       "      <td>None</td>\n",
       "    </tr>\n",
       "  </tbody>\n",
       "</table>\n",
       "</div>"
      ],
      "text/plain": [
       "   pk_information concat_info notes  \\\n",
       "0          153566  Info153566  None   \n",
       "1          155132  Info155132  None   \n",
       "2          155028  Info155028  None   \n",
       "3          141498  Info141498  None   \n",
       "4           87832   Info87832         \n",
       "\n",
       "                             fk_type_information fk_inherit_info_sourcing  \\\n",
       "0  Activité d'enseignement d'un acteur collectif                     None   \n",
       "1                    Caractéristiques d'un objet                     None   \n",
       "2                    Caractéristiques d'un objet                     None   \n",
       "3                 Création d'un acteur collectif                     None   \n",
       "4                          Qualité (obtenir une)                     None   \n",
       "\n",
       "   creator                                         info_label standard_date  \\\n",
       "0     74.0  Ecole pratique d'agriculture (Plouguernével); ...    1909-04-16   \n",
       "1     74.0  Ferme-école de Varincourt (Laneuvelotte); Inte...    1849-04-03   \n",
       "2     74.0  Ferme-école d'Ollwiller (Wuenheim); Internat -...    1849-05-14   \n",
       "3     74.0  Section commerciale de l'école primaire supéri...          1931   \n",
       "4     11.0  Marrel, Jean - Diplômé des Arts et Métiers (Cl...          1906   \n",
       "\n",
       "  standard_date_type info_subject  \n",
       "0      Date de début         None  \n",
       "1      Date de début         None  \n",
       "2      Date de début         None  \n",
       "3        Date unique         None  \n",
       "4         Date début         None  "
      ]
     },
     "execution_count": 18,
     "metadata": {},
     "output_type": "execute_result"
    }
   ],
   "source": [
    "sql = \"\"\"\n",
    "SELECT info.pk_information, info.concat_info, info.notes, type_info.concat_standard_name, \n",
    "      info.fk_inherit_info_sourcing, info.creator, info.info_label, info.standard_date, info.standard_date_type, \n",
    "       info.info_subject\n",
    "FROM bhp.v_information info\n",
    "JOIN bhp.v_type_information type_info\n",
    "ON info.fk_type_information = type_info.pk_type_information\n",
    "WHERE pk_information IN\n",
    "(\n",
    "SELECT DISTINCT fk_information\n",
    "  FROM bhp.v_information_role\n",
    "  WHERE fk_associated_object IN (\n",
    "  SELECT DISTINCT fk_object\n",
    "FROM bhp.v_associate_project\n",
    "WHERE fk_collective_actor = 15789\n",
    "AND fk_object LIKE 'CoAc%')\n",
    ")\n",
    "\"\"\"\n",
    "cursor.execute(sql)\n",
    "query = cursor.fetchall()\n",
    "df = pd.DataFrame(query, columns=[\"pk_information\", \"concat_info\", \"notes\", \"fk_type_information\", \n",
    "      \"fk_inherit_info_sourcing\", \"creator\", \"info_label\", \"standard_date\", \"standard_date_type\", \n",
    "       \"info_subject\"])\n",
    "p = Path(\"../tableaux/listes_informations_liees_aux_coac.xlsx\")\n",
    "df.to_csv(p)\n",
    "df.head()"
   ]
  },
  {
   "cell_type": "markdown",
   "metadata": {},
   "source": [
    "Distribution des types d'information au sein de cette liste :\n",
    "30 : création\n",
    "41 : statut\n",
    "166 : activité d'enseignement d'un CoAc\n",
    "148 : caractéristique d'un objet\n",
    "11 : qualité (obtenir)\n",
    "7 : fonction (exercice)"
   ]
  },
  {
   "cell_type": "code",
   "execution_count": 6,
   "metadata": {},
   "outputs": [
    {
     "data": {
      "text/plain": [
       "Création d'un acteur collectif                   5372\n",
       "Statut                                           5369\n",
       "Activité d'enseignement d'un acteur collectif    4598\n",
       "Caractéristiques d'un objet                      3243\n",
       "Qualité (obtenir une)                            2093\n",
       "Fonction (exercice de la )                        226\n",
       "Formation (suivre une)                             36\n",
       "Fin de l'existence d'un acteur collectif           15\n",
       "Enseignement                                       15\n",
       "Évènement                                          11\n",
       "Nombre                                              6\n",
       "Rattachement à un acteur collectif                  1\n",
       "Name: fk_type_information, dtype: int64"
      ]
     },
     "execution_count": 6,
     "metadata": {},
     "output_type": "execute_result"
    }
   ],
   "source": [
    "df[\"fk_type_information\"].value_counts()"
   ]
  },
  {
   "cell_type": "markdown",
   "metadata": {},
   "source": [
    "#### Liste des créateurs des informations"
   ]
  },
  {
   "cell_type": "code",
   "execution_count": 29,
   "metadata": {},
   "outputs": [
    {
     "data": {
      "text/plain": [
       "74.0     18740\n",
       "12.0      1240\n",
       "11.0       881\n",
       "120.0       47\n",
       "86.0        37\n",
       "73.0        15\n",
       "50.0         6\n",
       "20.0         4\n",
       "55.0         3\n",
       "18.0         3\n",
       "26.0         3\n",
       "2.0          2\n",
       "51.0         1\n",
       "1.0          1\n",
       "Name: creator, dtype: int64"
      ]
     },
     "execution_count": 29,
     "metadata": {},
     "output_type": "execute_result"
    }
   ],
   "source": [
    "df[\"creator\"].value_counts()"
   ]
  },
  {
   "cell_type": "markdown",
   "metadata": {},
   "source": [
    "### Informations création"
   ]
  },
  {
   "cell_type": "markdown",
   "metadata": {},
   "source": [
    "#### Liste des TyIn30, création d'un acteur collectif."
   ]
  },
  {
   "cell_type": "code",
   "execution_count": 20,
   "metadata": {
    "scrolled": true
   },
   "outputs": [
    {
     "data": {
      "text/plain": [
       "5372"
      ]
     },
     "execution_count": 20,
     "metadata": {},
     "output_type": "execute_result"
    }
   ],
   "source": [
    "sql = \"\"\"\n",
    "SELECT info.pk_information, info.concat_info, info.notes, type_info.concat_standard_name, \n",
    "      info.fk_inherit_info_sourcing, info.creator, info.info_label, info.standard_date, info.standard_date_type, \n",
    "       info.info_subject\n",
    "FROM bhp.v_information info\n",
    "JOIN bhp.v_type_information type_info\n",
    "ON info.fk_type_information = type_info.pk_type_information\n",
    "WHERE pk_information IN\n",
    "(\n",
    "SELECT DISTINCT fk_information\n",
    "  FROM bhp.v_information_role\n",
    "  WHERE fk_associated_object IN (\n",
    "  SELECT DISTINCT fk_object\n",
    "FROM bhp.v_associate_project\n",
    "WHERE fk_collective_actor = 15789\n",
    "AND fk_object LIKE 'CoAc%')\n",
    ")\n",
    "AND info.fk_type_information = 30\n",
    "\"\"\"\n",
    "cursor.execute(sql)\n",
    "query = cursor.fetchall()\n",
    "df = pd.DataFrame(query, columns=[\"pk_information\", \"concat_info\", \"notes\", \"fk_type_information\", \n",
    "      \"fk_inherit_info_sourcing\", \"creator\", \"info_label\", \"standard_date\", \"standard_date_type\", \n",
    "       \"info_subject\"])\n",
    "p = Path(\"../tableaux/type_info_30.xlsx\")\n",
    "df.to_csv(p)\n",
    "len(df)"
   ]
  },
  {
   "cell_type": "markdown",
   "metadata": {},
   "source": [
    "#### Distribution des dates"
   ]
  },
  {
   "cell_type": "code",
   "execution_count": 8,
   "metadata": {},
   "outputs": [
    {
     "data": {
      "text/html": [
       "<div>\n",
       "<style scoped>\n",
       "    .dataframe tbody tr th:only-of-type {\n",
       "        vertical-align: middle;\n",
       "    }\n",
       "\n",
       "    .dataframe tbody tr th {\n",
       "        vertical-align: top;\n",
       "    }\n",
       "\n",
       "    .dataframe thead th {\n",
       "        text-align: right;\n",
       "    }\n",
       "</style>\n",
       "<table border=\"1\" class=\"dataframe\">\n",
       "  <thead>\n",
       "    <tr style=\"text-align: right;\">\n",
       "      <th></th>\n",
       "      <th>standard_date</th>\n",
       "      <th>freq</th>\n",
       "    </tr>\n",
       "  </thead>\n",
       "  <tbody>\n",
       "    <tr>\n",
       "      <th>0</th>\n",
       "      <td>1931 p</td>\n",
       "      <td>427</td>\n",
       "    </tr>\n",
       "    <tr>\n",
       "      <th>1</th>\n",
       "      <td>1930 p</td>\n",
       "      <td>336</td>\n",
       "    </tr>\n",
       "    <tr>\n",
       "      <th>2</th>\n",
       "      <td>1928 p</td>\n",
       "      <td>331</td>\n",
       "    </tr>\n",
       "    <tr>\n",
       "      <th>3</th>\n",
       "      <td>1933 p</td>\n",
       "      <td>323</td>\n",
       "    </tr>\n",
       "    <tr>\n",
       "      <th>4</th>\n",
       "      <td>1920 p</td>\n",
       "      <td>173</td>\n",
       "    </tr>\n",
       "    <tr>\n",
       "      <th>5</th>\n",
       "      <td>1895 p</td>\n",
       "      <td>125</td>\n",
       "    </tr>\n",
       "    <tr>\n",
       "      <th>6</th>\n",
       "      <td>1921 p</td>\n",
       "      <td>92</td>\n",
       "    </tr>\n",
       "    <tr>\n",
       "      <th>7</th>\n",
       "      <td>1935-09-17</td>\n",
       "      <td>86</td>\n",
       "    </tr>\n",
       "    <tr>\n",
       "      <th>8</th>\n",
       "      <td>1922 p</td>\n",
       "      <td>68</td>\n",
       "    </tr>\n",
       "    <tr>\n",
       "      <th>9</th>\n",
       "      <td>1938 p</td>\n",
       "      <td>61</td>\n",
       "    </tr>\n",
       "    <tr>\n",
       "      <th>10</th>\n",
       "      <td>1920</td>\n",
       "      <td>48</td>\n",
       "    </tr>\n",
       "    <tr>\n",
       "      <th>11</th>\n",
       "      <td>1910 p</td>\n",
       "      <td>43</td>\n",
       "    </tr>\n",
       "    <tr>\n",
       "      <th>12</th>\n",
       "      <td>1936 p</td>\n",
       "      <td>36</td>\n",
       "    </tr>\n",
       "    <tr>\n",
       "      <th>13</th>\n",
       "      <td>1900 p</td>\n",
       "      <td>36</td>\n",
       "    </tr>\n",
       "    <tr>\n",
       "      <th>14</th>\n",
       "      <td>1929 p</td>\n",
       "      <td>35</td>\n",
       "    </tr>\n",
       "    <tr>\n",
       "      <th>15</th>\n",
       "      <td>1911 p</td>\n",
       "      <td>34</td>\n",
       "    </tr>\n",
       "    <tr>\n",
       "      <th>16</th>\n",
       "      <td>1939 p</td>\n",
       "      <td>33</td>\n",
       "    </tr>\n",
       "    <tr>\n",
       "      <th>17</th>\n",
       "      <td>1937-07-26</td>\n",
       "      <td>32</td>\n",
       "    </tr>\n",
       "    <tr>\n",
       "      <th>18</th>\n",
       "      <td>1934 p</td>\n",
       "      <td>32</td>\n",
       "    </tr>\n",
       "    <tr>\n",
       "      <th>19</th>\n",
       "      <td>1920-05-21</td>\n",
       "      <td>31</td>\n",
       "    </tr>\n",
       "    <tr>\n",
       "      <th>20</th>\n",
       "      <td>1912 p</td>\n",
       "      <td>30</td>\n",
       "    </tr>\n",
       "    <tr>\n",
       "      <th>21</th>\n",
       "      <td>1937 p</td>\n",
       "      <td>29</td>\n",
       "    </tr>\n",
       "    <tr>\n",
       "      <th>22</th>\n",
       "      <td>1799 p</td>\n",
       "      <td>28</td>\n",
       "    </tr>\n",
       "    <tr>\n",
       "      <th>23</th>\n",
       "      <td>1925 p</td>\n",
       "      <td>28</td>\n",
       "    </tr>\n",
       "    <tr>\n",
       "      <th>24</th>\n",
       "      <td>1899 p</td>\n",
       "      <td>27</td>\n",
       "    </tr>\n",
       "  </tbody>\n",
       "</table>\n",
       "</div>"
      ],
      "text/plain": [
       "   standard_date  freq\n",
       "0         1931 p   427\n",
       "1         1930 p   336\n",
       "2         1928 p   331\n",
       "3         1933 p   323\n",
       "4         1920 p   173\n",
       "5         1895 p   125\n",
       "6         1921 p    92\n",
       "7     1935-09-17    86\n",
       "8         1922 p    68\n",
       "9         1938 p    61\n",
       "10          1920    48\n",
       "11        1910 p    43\n",
       "12        1936 p    36\n",
       "13        1900 p    36\n",
       "14        1929 p    35\n",
       "15        1911 p    34\n",
       "16        1939 p    33\n",
       "17    1937-07-26    32\n",
       "18        1934 p    32\n",
       "19    1920-05-21    31\n",
       "20        1912 p    30\n",
       "21        1937 p    29\n",
       "22        1799 p    28\n",
       "23        1925 p    28\n",
       "24        1899 p    27"
      ]
     },
     "execution_count": 8,
     "metadata": {},
     "output_type": "execute_result"
    }
   ],
   "source": [
    "sql = \"\"\"\n",
    "SELECT info.standard_date, count(*) freq\n",
    "FROM bhp.v_information info\n",
    "JOIN bhp.v_type_information type_info\n",
    "ON info.fk_type_information = type_info.pk_type_information\n",
    "WHERE pk_information IN\n",
    "(\n",
    "SELECT DISTINCT fk_information\n",
    "  FROM bhp.v_information_role\n",
    "  WHERE fk_associated_object IN (\n",
    "  SELECT DISTINCT fk_object\n",
    "FROM bhp.v_associate_project\n",
    "WHERE fk_collective_actor = 15789\n",
    "AND fk_object LIKE 'CoAc%')\n",
    ")\n",
    "AND info.fk_type_information = 30\n",
    "GROUP BY info.standard_date\n",
    "ORDER BY freq desc\n",
    "\"\"\"\n",
    "cursor.execute(sql)\n",
    "query = cursor.fetchall()\n",
    "df = pd.DataFrame(query, columns=[\"standard_date\", \"freq\"])\n",
    "p = Path(\"../tableaux/distribution_type_dates.xlsx\")\n",
    "df.to_csv(p)\n",
    "df.head(25)"
   ]
  },
  {
   "cell_type": "markdown",
   "metadata": {},
   "source": [
    "Beaucoup de dates sont postulées, combien y en a-t-il ?"
   ]
  },
  {
   "cell_type": "code",
   "execution_count": 22,
   "metadata": {},
   "outputs": [
    {
     "name": "stdout",
     "output_type": "stream",
     "text": [
      "2866\n"
     ]
    }
   ],
   "source": [
    "sql = \"\"\"\n",
    "SELECT count(*)\n",
    "FROM bhp.v_information info\n",
    "JOIN bhp.v_type_information type_info\n",
    "ON info.fk_type_information = type_info.pk_type_information\n",
    "WHERE pk_information IN\n",
    "(\n",
    "SELECT DISTINCT fk_information\n",
    "  FROM bhp.v_information_role\n",
    "  WHERE fk_associated_object IN (\n",
    "  SELECT DISTINCT fk_object\n",
    "FROM bhp.v_associate_project\n",
    "WHERE fk_collective_actor = 15789\n",
    "AND fk_object LIKE 'CoAc%')\n",
    ")\n",
    "AND info.fk_type_information = 30\n",
    "AND info.standard_date LIKE '%p%'\n",
    "\"\"\"\n",
    "cursor.execute(sql)\n",
    "query = cursor.fetchall()\n",
    "print(query[0][0])"
   ]
  },
  {
   "cell_type": "markdown",
   "metadata": {},
   "source": [
    "Donc 2866 dates de création sont postulées sur 5372 soit plus de la moitié."
   ]
  },
  {
   "cell_type": "code",
   "execution_count": null,
   "metadata": {},
   "outputs": [],
   "source": []
  },
  {
   "cell_type": "code",
   "execution_count": null,
   "metadata": {},
   "outputs": [],
   "source": []
  }
 ],
 "metadata": {
  "kernelspec": {
   "display_name": "Python 3",
   "language": "python",
   "name": "python3"
  },
  "language_info": {
   "codemirror_mode": {
    "name": "ipython",
    "version": 3
   },
   "file_extension": ".py",
   "mimetype": "text/x-python",
   "name": "python",
   "nbconvert_exporter": "python",
   "pygments_lexer": "ipython3",
   "version": "3.8.5"
  },
  "toc": {
   "base_numbering": 1,
   "nav_menu": {},
   "number_sections": true,
   "sideBar": true,
   "skip_h1_title": true,
   "title_cell": "Table of Contents",
   "title_sidebar": "Contents",
   "toc_cell": true,
   "toc_position": {},
   "toc_section_display": true,
   "toc_window_display": true
  }
 },
 "nbformat": 4,
 "nbformat_minor": 4
}
